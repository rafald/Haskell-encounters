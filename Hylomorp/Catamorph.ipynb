{
 "cells": [
  {
   "cell_type": "markdown",
   "metadata": {},
   "source": [
    "1. (https://news.ycombinator.com/item?id=14949392)\n",
    "1. (https://stackoverflow.com/questions/4434292/catamorphism-and-tree-traversing-in-haskell)\n",
    "1. (https://en.wikibooks.org/wiki/Haskell/Fix_and_recursion)\n",
    "1. (https://stackoverflow.com/questions/41524960/recursion-schemes-using-fix-on-a-data-type-thats-already-a-functor)\n",
    "1. (https://www.schoolofhaskell.com/user/bartosz/understanding-algebras)\n",
    "1. (https://stackoverflow.com/questions/21688063/haskell-to-fix-or-not-to-fix)\n",
    "\n",
    "`cata :: Functor f => (f a -> a) -> (Fix f -> a)`\n",
    "\n",
    "Beware the difference between \n",
    "\n",
    "`_Y f = f (_Y f)`  (recursion, value--copying) and \n",
    "\n",
    "`fix f = x where x = f x ` (corecursion, reference--sharing).\n",
    "\n",
    "\n"
   ]
  },
  {
   "cell_type": "markdown",
   "metadata": {},
   "source": [
    "(https://stackoverflow.com/questions/27856974/functor-instance-for-generic-polymorphic-adts-in-haskell#27857225)\n",
    "\n",
    "If you have a polymorphic type, like a List or a Tree, you can create a functor from (Hask × Hask) to Hask that represents them. **b param normally is recursion**, for example:"
   ]
  },
  {
   "cell_type": "code",
   "execution_count": 14,
   "metadata": {
    "collapsed": true
   },
   "outputs": [],
   "source": [
    "data ListF a b = NilF | ConsF a b  -- L(A,B) = 1+A×B\n",
    "data TreeF a b = EmptyF | NodeF a b b -- T(A,B) = 1+A×B×B"
   ]
  },
  {
   "cell_type": "markdown",
   "metadata": {},
   "source": [
    "These types are polymorphic on A but are fixed points regarding B, something like this:"
   ]
  },
  {
   "cell_type": "code",
   "execution_count": 17,
   "metadata": {
    "collapsed": true
   },
   "outputs": [],
   "source": [
    "newtype Fix f = Fix { unFix :: f (Fix f) }\n",
    "type List a = Fix (ListF a)\n",
    "type Tree a = Fix (TreeF a)\n",
    "--... to contunue"
   ]
  },
  {
   "cell_type": "code",
   "execution_count": 1,
   "metadata": {
    "collapsed": true
   },
   "outputs": [],
   "source": [
    "{-# LANGUAGE DeriveFunctor #-}"
   ]
  },
  {
   "cell_type": "code",
   "execution_count": 11,
   "metadata": {},
   "outputs": [
    {
     "data": {
      "text/plain": [
       "25"
      ]
     },
     "metadata": {},
     "output_type": "display_data"
    }
   ],
   "source": [
    "import Data.Fix --(cata, Fix)\n",
    "data ExprF r = Const Int\n",
    "             | Add r r\n",
    "             | Mul r r\n",
    "    deriving Functor\n",
    "\n",
    "--newtype Fix f = Fx (f (Fix f))\n",
    "--unFix :: Fix f -> f (Fix f)\n",
    "--unFix (Fix x) = x\n",
    "\n",
    "--cata :: Functor f => (f a -> a) -> Fix f -> a\n",
    "--cata alg = alg . fmap (cata alg) . unFix\n",
    "\n",
    "alg :: ExprF Int -> Int\n",
    "alg (Const i)   = i\n",
    "alg (x `Add` y) = x + y\n",
    "alg (x `Mul` y) = x * y\n",
    "\n",
    "eval :: Fix ExprF -> Int\n",
    "eval = cata alg\n",
    "-- show\n",
    "testExpr = Fix $ \n",
    "             (Fix $ (Fix $ Const 2) `Add` (Fix $ Const 3)) `Mul` \n",
    "             (Fix $ Const 5) :: Fix ExprF\n",
    "\n",
    "print $ eval testExpr"
   ]
  },
  {
   "cell_type": "code",
   "execution_count": 3,
   "metadata": {},
   "outputs": [
    {
     "data": {
      "text/plain": [
       "41"
      ]
     },
     "metadata": {},
     "output_type": "display_data"
    }
   ],
   "source": [
    "{-https://stackoverflow.com/questions/4434292/catamorphism-and-tree-traversing-in-haskell-}\n",
    "data Tree a = Leaf a\n",
    "            | Branch (Tree a) (Tree a)\n",
    "\n",
    "{-I dont understand the structure between{} \n",
    "however it defines two morphisms, leaf and branch \n",
    "leaf take an a and returns an r, branch takes two r and returns an r-} \n",
    "data TreeAlgebra a r = TreeAlgebra { leaf   :: a      -> r\n",
    "                                   , branch :: r -> r -> r }\n",
    "\n",
    "{- foldTree is a morphism that takes: a TreeAlgebra for Tree a with result r, a Tree a\n",
    "and returns an r -} \n",
    "foldTree :: TreeAlgebra a r -> Tree a -> r\n",
    "foldTree a@(TreeAlgebra {leaf   = f}) (Leaf   x  ) = f x\n",
    "foldTree a@(TreeAlgebra {branch = g}) (Branch l r) = g (foldTree a l) (foldTree a r)\n",
    "\n",
    "t0 = Branch (Branch (Leaf 23) (Leaf 7)) (Leaf 11)\n",
    "\n",
    "sumAlgebra :: TreeAlgebra Int Int\n",
    "sumAlgebra = TreeAlgebra { leaf = id\n",
    "                         , branch = (+) }\n",
    "foldTree sumAlgebra t0"
   ]
  },
  {
   "cell_type": "markdown",
   "metadata": {},
   "source": [
    "take the \"fixed point\" of a parameterized data type -- that is,\n",
    "constructing a data type  T such that \n",
    "\n",
    "`T = TreeNode a T`\n",
    "\n",
    "They call this operator Mu.\n",
    "\n",
    "`type Mu f = f (Mu f)`\n",
    "\n",
    "`type IntTree = Mu IntNode`\n",
    "\n",
    "essential property of the catamorphism is that to compute some function f, it suffices to have the values of f for its immediate children\n",
    "\n",
    "So to compute r on a particular node, we need the node with its children replaced with their rs\n",
    "\n",
    "we can compute r for the entire recursive structure (remember recursion is denoted explicitly here with Mu):\n",
    "\n",
    "`cata :: (node r -> r) -> Mu node -> r`\n",
    "\n",
    "`cata :: (IntNode r -> r) -> IntTree -> r`\n",
    "\n",
    "`fmap :: (a -> b) -> node a -> node b`\n",
    "\n",
    "`cata :: (Functor node) => (node r -> r) -> Mu node -> r`\n",
    "\n",
    "`cata f t = f (fmap (cata f) t)`"
   ]
  },
  {
   "cell_type": "code",
   "execution_count": 4,
   "metadata": {
    "collapsed": true
   },
   "outputs": [],
   "source": [
    "-- Let's make a data type for a single node in your tree, parameterized over its children:\n",
    "data TreeNode a child\n",
    "    = Leaf a\n",
    "    | Branch child child -- just replaced the recursive children with a type of our choosin child == Tree a "
   ]
  },
  {
   "cell_type": "code",
   "execution_count": 5,
   "metadata": {},
   "outputs": [],
   "source": [
    "import Data.Fix(cata, Fix)"
   ]
  },
  {
   "cell_type": "code",
   "execution_count": 6,
   "metadata": {},
   "outputs": [
    {
     "data": {
      "text/html": [
       "<style>/* Styles used for the Hoogle display in the pager */\n",
       ".hoogle-doc {\n",
       "display: block;\n",
       "padding-bottom: 1.3em;\n",
       "padding-left: 0.4em;\n",
       "}\n",
       ".hoogle-code {\n",
       "display: block;\n",
       "font-family: monospace;\n",
       "white-space: pre;\n",
       "}\n",
       ".hoogle-text {\n",
       "display: block;\n",
       "}\n",
       ".hoogle-name {\n",
       "color: green;\n",
       "font-weight: bold;\n",
       "}\n",
       ".hoogle-head {\n",
       "font-weight: bold;\n",
       "}\n",
       ".hoogle-sub {\n",
       "display: block;\n",
       "margin-left: 0.4em;\n",
       "}\n",
       ".hoogle-package {\n",
       "font-weight: bold;\n",
       "font-style: italic;\n",
       "}\n",
       ".hoogle-module {\n",
       "font-weight: bold;\n",
       "}\n",
       ".hoogle-class {\n",
       "font-weight: bold;\n",
       "}\n",
       ".get-type {\n",
       "color: green;\n",
       "font-weight: bold;\n",
       "font-family: monospace;\n",
       "display: block;\n",
       "white-space: pre-wrap;\n",
       "}\n",
       ".show-type {\n",
       "color: green;\n",
       "font-weight: bold;\n",
       "font-family: monospace;\n",
       "margin-left: 1em;\n",
       "}\n",
       ".mono {\n",
       "font-family: monospace;\n",
       "display: block;\n",
       "}\n",
       ".err-msg {\n",
       "color: red;\n",
       "font-style: italic;\n",
       "font-family: monospace;\n",
       "white-space: pre;\n",
       "display: block;\n",
       "}\n",
       "#unshowable {\n",
       "color: red;\n",
       "font-weight: bold;\n",
       "}\n",
       ".err-msg.in.collapse {\n",
       "padding-top: 0.7em;\n",
       "}\n",
       ".highlight-code {\n",
       "white-space: pre;\n",
       "font-family: monospace;\n",
       "}\n",
       ".suggestion-warning { \n",
       "font-weight: bold;\n",
       "color: rgb(200, 130, 0);\n",
       "}\n",
       ".suggestion-error { \n",
       "font-weight: bold;\n",
       "color: red;\n",
       "}\n",
       ".suggestion-name {\n",
       "font-weight: bold;\n",
       "}\n",
       "</style><span class='get-type'>Bot :: Fix Id -> Bot</span>"
      ],
      "text/plain": [
       "Bot :: Fix Id -> Bot"
      ]
     },
     "metadata": {},
     "output_type": "display_data"
    }
   ],
   "source": [
    "newtype Id a = Id a\n",
    "newtype Bot = Bot (Data.Fix.Fix Id) -- equals          newtype Bot=Bot Bot\n",
    "-- There is only one allowable term. \n",
    "--            Bot $ Bot $ Bot $ Bot ...\n",
    ":t Bot"
   ]
  },
  {
   "cell_type": "markdown",
   "metadata": {},
   "source": [
    "The Fix data type cannot model all forms of recursion. Take for instance this nonregular data type.\n",
    "\n",
    "`data Node a = Two a a | Three a a a`\n",
    "\n",
    "`data FingerTree a = U a | Up (FingerTree (Node a))`\n",
    "\n",
    "It is not easy to implement this using Fix."
   ]
  },
  {
   "cell_type": "code",
   "execution_count": 7,
   "metadata": {},
   "outputs": [],
   "source": [
    "data Tree' a = Branch' (Tree' a) (Tree' a) | Leaf' a\n",
    "data TreeNode a child = Branch child child | Leaf a\n",
    "  deriving (Show, Functor)\n",
    "--data Fix f = F (f (Fix f))\n",
    "type Tree a = Fix (TreeNode a) -- deriving Functor\n",
    "--newtype Tree a = Tree (Fix (TreeNode a)) -- deriving Functor\n",
    "--newtype Tree a = Tree ( Fix (TreeNode a) ) deriving Functor\n"
   ]
  },
  {
   "cell_type": "code",
   "execution_count": 8,
   "metadata": {},
   "outputs": [
    {
     "data": {
      "text/html": [
       "<style>/* Styles used for the Hoogle display in the pager */\n",
       ".hoogle-doc {\n",
       "display: block;\n",
       "padding-bottom: 1.3em;\n",
       "padding-left: 0.4em;\n",
       "}\n",
       ".hoogle-code {\n",
       "display: block;\n",
       "font-family: monospace;\n",
       "white-space: pre;\n",
       "}\n",
       ".hoogle-text {\n",
       "display: block;\n",
       "}\n",
       ".hoogle-name {\n",
       "color: green;\n",
       "font-weight: bold;\n",
       "}\n",
       ".hoogle-head {\n",
       "font-weight: bold;\n",
       "}\n",
       ".hoogle-sub {\n",
       "display: block;\n",
       "margin-left: 0.4em;\n",
       "}\n",
       ".hoogle-package {\n",
       "font-weight: bold;\n",
       "font-style: italic;\n",
       "}\n",
       ".hoogle-module {\n",
       "font-weight: bold;\n",
       "}\n",
       ".hoogle-class {\n",
       "font-weight: bold;\n",
       "}\n",
       ".get-type {\n",
       "color: green;\n",
       "font-weight: bold;\n",
       "font-family: monospace;\n",
       "display: block;\n",
       "white-space: pre-wrap;\n",
       "}\n",
       ".show-type {\n",
       "color: green;\n",
       "font-weight: bold;\n",
       "font-family: monospace;\n",
       "margin-left: 1em;\n",
       "}\n",
       ".mono {\n",
       "font-family: monospace;\n",
       "display: block;\n",
       "}\n",
       ".err-msg {\n",
       "color: red;\n",
       "font-style: italic;\n",
       "font-family: monospace;\n",
       "white-space: pre;\n",
       "display: block;\n",
       "}\n",
       "#unshowable {\n",
       "color: red;\n",
       "font-weight: bold;\n",
       "}\n",
       ".err-msg.in.collapse {\n",
       "padding-top: 0.7em;\n",
       "}\n",
       ".highlight-code {\n",
       "white-space: pre;\n",
       "font-family: monospace;\n",
       "}\n",
       ".suggestion-warning { \n",
       "font-weight: bold;\n",
       "color: rgb(200, 130, 0);\n",
       "}\n",
       ".suggestion-error { \n",
       "font-weight: bold;\n",
       "color: red;\n",
       "}\n",
       ".suggestion-name {\n",
       "font-weight: bold;\n",
       "}\n",
       "</style><span class='get-type'>cata :: forall a (f :: * -> *). Functor f => (f a -> a) -> Fix f -> a</span>"
      ],
      "text/plain": [
       "cata :: forall a (f :: * -> *). Functor f => (f a -> a) -> Fix f -> a"
      ]
     },
     "metadata": {},
     "output_type": "display_data"
    }
   ],
   "source": [
    "-- cata == Catamorphism or generic function fold.\n",
    ":t cata "
   ]
  },
  {
   "cell_type": "code",
   "execution_count": 9,
   "metadata": {},
   "outputs": [],
   "source": [
    "--sumTree :: Tree Int -> Int\n",
    "sumTree :: Fix (TreeNode Int) -> Int\n",
    "sumTree = Data.Fix.cata algebra\n",
    "  where\n",
    "    algebra (Branch a b) = a + b\n",
    "    algebra (Leaf a) = a\n",
    "\n",
    "--foldFunction :: TreeAlgebra a r -> (TreeNode a r -> r)\n",
    "--foldFunction alg (Leaf a) = leaf alg a\n",
    "--foldFunction alg (Branch l r) = branch alg l r\n",
    "\n",
    "--treeCata :: TreeAlgebra a r -> (Tree a -> r)\n",
    "--treeCata alg = cata (foldFunction alg)    "
   ]
  },
  {
   "cell_type": "code",
   "execution_count": 10,
   "metadata": {},
   "outputs": [
    {
     "data": {
      "text/html": [
       "<style>/* Styles used for the Hoogle display in the pager */\n",
       ".hoogle-doc {\n",
       "display: block;\n",
       "padding-bottom: 1.3em;\n",
       "padding-left: 0.4em;\n",
       "}\n",
       ".hoogle-code {\n",
       "display: block;\n",
       "font-family: monospace;\n",
       "white-space: pre;\n",
       "}\n",
       ".hoogle-text {\n",
       "display: block;\n",
       "}\n",
       ".hoogle-name {\n",
       "color: green;\n",
       "font-weight: bold;\n",
       "}\n",
       ".hoogle-head {\n",
       "font-weight: bold;\n",
       "}\n",
       ".hoogle-sub {\n",
       "display: block;\n",
       "margin-left: 0.4em;\n",
       "}\n",
       ".hoogle-package {\n",
       "font-weight: bold;\n",
       "font-style: italic;\n",
       "}\n",
       ".hoogle-module {\n",
       "font-weight: bold;\n",
       "}\n",
       ".hoogle-class {\n",
       "font-weight: bold;\n",
       "}\n",
       ".get-type {\n",
       "color: green;\n",
       "font-weight: bold;\n",
       "font-family: monospace;\n",
       "display: block;\n",
       "white-space: pre-wrap;\n",
       "}\n",
       ".show-type {\n",
       "color: green;\n",
       "font-weight: bold;\n",
       "font-family: monospace;\n",
       "margin-left: 1em;\n",
       "}\n",
       ".mono {\n",
       "font-family: monospace;\n",
       "display: block;\n",
       "}\n",
       ".err-msg {\n",
       "color: red;\n",
       "font-style: italic;\n",
       "font-family: monospace;\n",
       "white-space: pre;\n",
       "display: block;\n",
       "}\n",
       "#unshowable {\n",
       "color: red;\n",
       "font-weight: bold;\n",
       "}\n",
       ".err-msg.in.collapse {\n",
       "padding-top: 0.7em;\n",
       "}\n",
       ".highlight-code {\n",
       "white-space: pre;\n",
       "font-family: monospace;\n",
       "}\n",
       ".suggestion-warning { \n",
       "font-weight: bold;\n",
       "color: rgb(200, 130, 0);\n",
       "}\n",
       ".suggestion-error { \n",
       "font-weight: bold;\n",
       "color: red;\n",
       "}\n",
       ".suggestion-name {\n",
       "font-weight: bold;\n",
       "}\n",
       "</style><span class='get-type'>t :: Tree Integer</span>"
      ],
      "text/plain": [
       "t :: Tree Integer"
      ]
     },
     "metadata": {},
     "output_type": "display_data"
    },
    {
     "data": {
      "text/html": [
       "<style>/* Styles used for the Hoogle display in the pager */\n",
       ".hoogle-doc {\n",
       "display: block;\n",
       "padding-bottom: 1.3em;\n",
       "padding-left: 0.4em;\n",
       "}\n",
       ".hoogle-code {\n",
       "display: block;\n",
       "font-family: monospace;\n",
       "white-space: pre;\n",
       "}\n",
       ".hoogle-text {\n",
       "display: block;\n",
       "}\n",
       ".hoogle-name {\n",
       "color: green;\n",
       "font-weight: bold;\n",
       "}\n",
       ".hoogle-head {\n",
       "font-weight: bold;\n",
       "}\n",
       ".hoogle-sub {\n",
       "display: block;\n",
       "margin-left: 0.4em;\n",
       "}\n",
       ".hoogle-package {\n",
       "font-weight: bold;\n",
       "font-style: italic;\n",
       "}\n",
       ".hoogle-module {\n",
       "font-weight: bold;\n",
       "}\n",
       ".hoogle-class {\n",
       "font-weight: bold;\n",
       "}\n",
       ".get-type {\n",
       "color: green;\n",
       "font-weight: bold;\n",
       "font-family: monospace;\n",
       "display: block;\n",
       "white-space: pre-wrap;\n",
       "}\n",
       ".show-type {\n",
       "color: green;\n",
       "font-weight: bold;\n",
       "font-family: monospace;\n",
       "margin-left: 1em;\n",
       "}\n",
       ".mono {\n",
       "font-family: monospace;\n",
       "display: block;\n",
       "}\n",
       ".err-msg {\n",
       "color: red;\n",
       "font-style: italic;\n",
       "font-family: monospace;\n",
       "white-space: pre;\n",
       "display: block;\n",
       "}\n",
       "#unshowable {\n",
       "color: red;\n",
       "font-weight: bold;\n",
       "}\n",
       ".err-msg.in.collapse {\n",
       "padding-top: 0.7em;\n",
       "}\n",
       ".highlight-code {\n",
       "white-space: pre;\n",
       "font-family: monospace;\n",
       "}\n",
       ".suggestion-warning { \n",
       "font-weight: bold;\n",
       "color: rgb(200, 130, 0);\n",
       "}\n",
       ".suggestion-error { \n",
       "font-weight: bold;\n",
       "color: red;\n",
       "}\n",
       ".suggestion-name {\n",
       "font-weight: bold;\n",
       "}\n",
       "</style><span class='err-msg'>&lt;interactive&gt;:1:9: error:<br/>    • Couldn't match type ‘Integer’ with ‘Int’<br/>      Expected type: Fix (TreeNode Int)<br/>        Actual type: Tree Integer<br/>    • In the first argument of ‘sumTree’, namely ‘t’<br/>      In the expression: sumTree t<br/>      In an equation for ‘it’: it = sumTree t</span>"
      ],
      "text/plain": [
       "<interactive>:1:9: error:\n",
       "    • Couldn't match type ‘Integer’ with ‘Int’\n",
       "      Expected type: Fix (TreeNode Int)\n",
       "        Actual type: Tree Integer\n",
       "    • In the first argument of ‘sumTree’, namely ‘t’\n",
       "      In the expression: sumTree t\n",
       "      In an equation for ‘it’: it = sumTree t"
      ]
     },
     "metadata": {},
     "output_type": "display_data"
    }
   ],
   "source": [
    "t = Fix $ Leaf 17 :: Tree Integer\n",
    "--t = Branch (Leaf 3) $ Branch (Leaf 7) (Leaf 17) :: Fix (TreeNode Int)\n",
    ":t t\n",
    "--sumTree $ Branch (Leaf 3) $ Branch (Leaf 7) (Leaf 17)\n",
    "sumTree t"
   ]
  }
 ],
 "metadata": {
  "kernelspec": {
   "display_name": "Haskell",
   "language": "haskell",
   "name": "haskell"
  },
  "language_info": {
   "codemirror_mode": "ihaskell",
   "file_extension": ".hs",
   "name": "haskell",
   "version": "8.0.2"
  }
 },
 "nbformat": 4,
 "nbformat_minor": 2
}
