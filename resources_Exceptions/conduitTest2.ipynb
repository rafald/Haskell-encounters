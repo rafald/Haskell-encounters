{
 "cells": [
  {
   "cell_type": "code",
   "execution_count": null,
   "metadata": {},
   "outputs": [
    {
     "data": {
      "text/plain": [
       "55"
      ]
     },
     "metadata": {},
     "output_type": "display_data"
    },
    {
     "data": {
      "text/plain": [
       "This is a test."
      ]
     },
     "metadata": {},
     "output_type": "display_data"
    },
    {
     "data": {
      "text/plain": [
       "[2,3,4,5,6,7,8,9,10,11]"
      ]
     },
     "metadata": {},
     "output_type": "display_data"
    },
    {
     "data": {
      "text/plain": [
       "List version:"
      ]
     },
     "metadata": {},
     "output_type": "display_data"
    },
    {
     "data": {
      "text/plain": [
       "2\n",
       "4\n",
       "6\n",
       "8\n",
       "10\n",
       "12\n",
       "14\n",
       "16"
      ]
     },
     "metadata": {},
     "output_type": "display_data"
    },
    {
     "data": {
      "text/plain": [
       "Conduit version:"
      ]
     },
     "metadata": {},
     "output_type": "display_data"
    },
    {
     "data": {
      "text/plain": [
       "2\n",
       "4\n",
       "6\n",
       "8\n",
       "10\n",
       "12\n",
       "14\n",
       "16"
      ]
     },
     "metadata": {},
     "output_type": "display_data"
    },
    {
     "data": {
      "text/plain": [
       "List version:"
      ]
     },
     "metadata": {},
     "output_type": "display_data"
    },
    {
     "data": {
      "text/plain": [
       "I'm doing magic with 1\n",
       "I'm doing magic with 2\n",
       "I'm doing magic with 3\n",
       "I'm doing magic with 4\n",
       "I'm doing magic with 5\n",
       "I'm doing magic with 6\n",
       "I'm doing magic with 7\n",
       "I'm doing magic with 8\n",
       "I'm doing magic with 9\n",
       "I'm doing magic with 10\n",
       "2\n",
       "4\n",
       "6\n",
       "8\n",
       "10\n",
       "12\n",
       "14\n",
       "16"
      ]
     },
     "metadata": {},
     "output_type": "display_data"
    },
    {
     "data": {
      "text/plain": [
       "Conduit version:"
      ]
     },
     "metadata": {},
     "output_type": "display_data"
    },
    {
     "data": {
      "text/plain": [
       "I'm doing magic with 1\n",
       "2\n",
       "I'm doing magic with 2\n",
       "4\n",
       "I'm doing magic with 3\n",
       "6\n",
       "I'm doing magic with 4\n",
       "8\n",
       "I'm doing magic with 5\n",
       "10\n",
       "I'm doing magic with 6\n",
       "12\n",
       "I'm doing magic with 7\n",
       "14\n",
       "I'm doing magic with 8\n",
       "16\n",
       "I'm doing magic with 9"
      ]
     },
     "metadata": {},
     "output_type": "display_data"
    }
   ],
   "source": [
    "{-# LANGUAGE PackageImports #-}\n",
    "{-# LANGUAGE ExtendedDefaultRules #-}\n",
    "{-# LANGUAGE StandaloneDeriving #-}\n",
    "{-# LANGUAGE OverloadedStrings #-} -- for httpSink <Request>\n",
    "\n",
    "-- https://github.com/snoyberg/conduit#readme\n",
    "--module ConduitTest2 where -- if present *.hs file is generated\n",
    "\n",
    "import Conduit\n",
    "import Data.Monoid (Sum (..))\n",
    "--import Data.Text hiding (take, takeWhile, toUpper, map)--(Text)\n",
    "import Data.Text (Text)\n",
    "\n",
    "import qualified System.IO as IO\n",
    "import qualified Data.Conduit.Binary as CB\n",
    "\n",
    "import System.FilePath (takeExtension)\n",
    "\n",
    "import Data.ByteString (ByteString)\n",
    "\n",
    "import qualified Data.Text as T\n",
    "import Data.Char (toUpper)\n",
    "\n",
    "import Data.Void (Void)\n",
    "\n",
    "import Network.HTTP.Simple (httpSink)\n",
    "\n",
    "import Data.String\n",
    "\n",
    "-- Ambiguous interface for ‘Crypto.Hash’: it was found in multiple packages: cryptohash-0.11.9 cryptonite-0.23\n",
    "import \"cryptonite-conduit\" Crypto.Hash.Conduit (sinkHash)\n",
    "{-# LANGUAGE PackageImports #-}\n",
    "--import \"cryptonite\" Crypto.Hash (Digest, SHA256)\n",
    "\n",
    "import qualified Control.Monad (when)\n",
    "  \n",
    "\n",
    "\n",
    "\n",
    "doubles :: [Double]\n",
    "doubles = [1, 2, 3, 4, 5, 6]\n",
    "\n",
    "average :: Monad m => ConduitM Double Void m Double\n",
    "average =\n",
    "    getZipSink (go <$> ZipSink sumC <*> ZipSink lengthC)\n",
    "  where\n",
    "    go total len = total / fromIntegral len\n",
    "\n",
    "sourceFile' :: MonadResource m => FilePath -> ConduitM i ByteString m ()\n",
    "sourceFile' fp =\n",
    "    bracketP (IO.openBinaryFile fp IO.ReadMode) IO.hClose sourceHandle\n",
    "\n",
    "sinkFile' :: MonadResource m => FilePath -> ConduitM ByteString o m ()\n",
    "sinkFile' fp =\n",
    "    bracketP (IO.openBinaryFile fp IO.WriteMode) IO.hClose sinkHandle\n",
    "\n",
    "--deriving instance IsText (String)\n",
    "--deriving instance IsString(T.Text)\n",
    "message :: Text\n",
    "message = T.pack \"This is my message. Try to decode it with the base64 command.\\n\"\n",
    "\n",
    "trans :: Monad m => ConduitM Int Int m ()\n",
    "trans = do\n",
    "    takeC 5 .| mapC (+ 1)\n",
    "    mapC (* 2)\n",
    "\n",
    "magic :: Int -> IO Int\n",
    "magic x = do\n",
    "    putStrLn $ \"I'm doing magic with \" ++ show x\n",
    "    return $ x * 2\n",
    "\n",
    "\n",
    "\n",
    "\n",
    "\n",
    "\n",
    "-- Pure operations: summing numbers.\n",
    "print $ runConduitPure $ yieldMany [1..10] .| sumC\n",
    "-- Exception safe file access: copy a file.\n",
    "writeFile \"input.txt\" \"This is a test.\" -- create the source file\n",
    "runConduitRes $ sourceFileBS \"input.txt\" .| sinkFile \"output.txt\" -- actual copying\n",
    "readFile \"output.txt\" >>= putStrLn -- prove that it worked\n",
    "-- Perform transformations.\n",
    "print $ runConduitPure $ yieldMany [1..10] .| mapC (+ 1) .| sinkList\n",
    "--\n",
    "putStrLn \"List version:\"\n",
    "mapM_ print $ takeWhile (< 18) $ map (* 2) $ take 10 [1..]\n",
    "putStrLn \"\"\n",
    "putStrLn \"Conduit version:\"\n",
    "runConduit\n",
    "  $ yieldMany [1..]\n",
    "  .| takeC 10\n",
    "  .| mapC (* 2)\n",
    "  .| takeWhileC (< 18)\n",
    "  .| mapM_C print\n",
    "--\n",
    "putStrLn \"List version:\"\n",
    "mapM magic (take 10 [1..]) >>= mapM_ print . takeWhile (< 18)\n",
    "putStrLn \"\"\n",
    "putStrLn \"Conduit version:\"\n",
    "runConduit\n",
    "  $ yieldMany [1..]\n",
    "  .| takeC 10\n",
    "  .| mapMC magic\n",
    "  .| takeWhileC (< 18)\n",
    "  .| mapM_C print\n",
    "--\n",
    "let go [] = return ()\n",
    "go (x:xs) = do\n",
    "    y <- magic x\n",
    "    Control.Monad.when (y < 18) $\n",
    "      do print y\n",
    "         go xs\n",
    "--\n",
    "go $ take 10 [1..]\n",
    "--\n",
    "print $ getSum $ runConduitPure $ yieldMany [1..100 :: Int] .| foldMapC Sum\n",
    "--\n",
    "runConduit\n",
    "  $ yield message\n",
    "  .| encodeUtf8C\n",
    "  .| encodeBase64C\n",
    "  .| stdoutC\n",
    "--\n",
    "runConduit $ yieldMany [1..10] .| trans .| mapM_C print\n",
    "--\n",
    "IO.withBinaryFile \"input.txt\" IO.ReadMode $ \\inH -> IO.withBinaryFile \"output.txt\" IO.WriteMode $ \\outH -> runConduit $ CB.sourceHandle inH .| CB.sinkHandle outH\n",
    "--\n",
    "runResourceT\n",
    "  $ runConduit\n",
    "  $ sourceFile' \"input.txt\"\n",
    "  .| sinkFile' \"output.txt\"\n",
    "--\n",
    "runConduitRes\n",
    "  $ sourceDirectoryDeep True \".\"\n",
    "  .| filterC (\\fp -> takeExtension fp == \".hs\")\n",
    "  .| awaitForever sourceFileBS\n",
    "  .| sinkFileBS \"all-haskell-files\"\n",
    "--\n",
    "runConduitRes\n",
    "  $ sourceFile \"input.txt\"\n",
    "  .| decodeUtf8C\n",
    "  .| mapC (T.map toUpper)\n",
    "  .| encodeUtf8C\n",
    "  .| stdoutC\n",
    "--\n",
    "print $ runConduitPure $ yieldMany doubles .| average\n",
    "\n",
    "--digest <- runConduitRes\n",
    "--       $ sourceFile \"input.txt\"\n",
    "--       .| getZipSink (ZipSink (sinkFile \"output.txt\") *> ZipSink sinkHash)\n",
    "--print (digest :: Digest SHA256)\n",
    " \n",
    "--digest2 <- runResourceT $ httpSink \"http://httpbin.org\"\n",
    "--      (\\_res -> getZipSink (ZipSink (sinkFile \"output.txt\") *> ZipSink sinkHash))\n",
    "--print (digest2 :: Digest SHA256)  \n",
    "  \n",
    "runConduitRes $ sourceFile \"input.txt\" .| decodeUtf8C .| (do\n",
    "  len <- lineC lengthCE\n",
    "  liftIO $ print len)\n",
    "--\n",
    "runConduitRes $ sourceFile \"input.txt\" .| decodeUtf8C .| peekForeverE (do\n",
    "  len <- lineC lengthCE\n",
    "  liftIO $ print len)\n",
    "print \"Hello world!\""
   ]
  }
 ],
 "metadata": {
  "kernelspec": {
   "display_name": "Haskell",
   "language": "haskell",
   "name": "haskell"
  },
  "language_info": {
   "codemirror_mode": "ihaskell",
   "file_extension": ".hs",
   "name": "haskell",
   "version": "8.0.2"
  }
 },
 "nbformat": 4,
 "nbformat_minor": 2
}
