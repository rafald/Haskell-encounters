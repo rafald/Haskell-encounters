{
 "cells": [
  {
   "cell_type": "markdown",
   "metadata": {},
   "source": [
    "[All About Strictness - 12 Sep 2017 Michael Snoyman](https://www.fpcomplete.com/blog/2017/09/all-about-strictness)"
   ]
  },
  {
   "cell_type": "markdown",
   "metadata": {},
   "source": [
    "# Bang!\n",
    "\n",
    "how we can force Haskell to be more strict in its evaluation. "
   ]
  },
  {
   "cell_type": "code",
   "execution_count": 1,
   "metadata": {},
   "outputs": [
    {
     "data": {
      "text/plain": [
       "Five: 5"
      ]
     },
     "metadata": {},
     "output_type": "display_data"
    }
   ],
   "source": [
    "{-# LANGUAGE BangPatterns #-}\n",
    "add :: Int -> Int -> Int\n",
    "add !x !y = x + y\n",
    "\n",
    "main :: IO ()\n",
    "main = do\n",
    "  let !five = add (1 + 1) (1 + 2)\n",
    "      !seven = add (1 + 2) (1 + 3) -- not used but evaluated immediately, no thunk here\n",
    "\n",
    "  putStrLn $ \"Five: \" ++ show five\n",
    "main"
   ]
  },
  {
   "cell_type": "markdown",
   "metadata": {},
   "source": [
    "bang patterns are just **syntactic sugar** for something else. And in this case, that something else is the ***seq function***. This function looks like:\n",
    "\n",
    "`seq :: a -> b -> b`"
   ]
  },
  {
   "cell_type": "code",
   "execution_count": 2,
   "metadata": {},
   "outputs": [
    {
     "data": {
      "text/html": [
       "<style>/* Styles used for the Hoogle display in the pager */\n",
       ".hoogle-doc {\n",
       "display: block;\n",
       "padding-bottom: 1.3em;\n",
       "padding-left: 0.4em;\n",
       "}\n",
       ".hoogle-code {\n",
       "display: block;\n",
       "font-family: monospace;\n",
       "white-space: pre;\n",
       "}\n",
       ".hoogle-text {\n",
       "display: block;\n",
       "}\n",
       ".hoogle-name {\n",
       "color: green;\n",
       "font-weight: bold;\n",
       "}\n",
       ".hoogle-head {\n",
       "font-weight: bold;\n",
       "}\n",
       ".hoogle-sub {\n",
       "display: block;\n",
       "margin-left: 0.4em;\n",
       "}\n",
       ".hoogle-package {\n",
       "font-weight: bold;\n",
       "font-style: italic;\n",
       "}\n",
       ".hoogle-module {\n",
       "font-weight: bold;\n",
       "}\n",
       ".hoogle-class {\n",
       "font-weight: bold;\n",
       "}\n",
       ".get-type {\n",
       "color: green;\n",
       "font-weight: bold;\n",
       "font-family: monospace;\n",
       "display: block;\n",
       "white-space: pre-wrap;\n",
       "}\n",
       ".show-type {\n",
       "color: green;\n",
       "font-weight: bold;\n",
       "font-family: monospace;\n",
       "margin-left: 1em;\n",
       "}\n",
       ".mono {\n",
       "font-family: monospace;\n",
       "display: block;\n",
       "}\n",
       ".err-msg {\n",
       "color: red;\n",
       "font-style: italic;\n",
       "font-family: monospace;\n",
       "white-space: pre;\n",
       "display: block;\n",
       "}\n",
       "#unshowable {\n",
       "color: red;\n",
       "font-weight: bold;\n",
       "}\n",
       ".err-msg.in.collapse {\n",
       "padding-top: 0.7em;\n",
       "}\n",
       ".highlight-code {\n",
       "white-space: pre;\n",
       "font-family: monospace;\n",
       "}\n",
       ".suggestion-warning { \n",
       "font-weight: bold;\n",
       "color: rgb(200, 130, 0);\n",
       "}\n",
       ".suggestion-error { \n",
       "font-weight: bold;\n",
       "color: red;\n",
       "}\n",
       ".suggestion-name {\n",
       "font-weight: bold;\n",
       "}\n",
       "</style><span class='get-type'>seq :: forall b a. a -> b -> b</span>"
      ],
      "text/plain": [
       "seq :: forall b a. a -> b -> b"
      ]
     },
     "metadata": {},
     "output_type": "display_data"
    }
   ],
   "source": [
    ":t seq"
   ]
  },
  {
   "cell_type": "markdown",
   "metadata": {},
   "source": [
    "we could implement this type signature yourself, of course, by just ignoring the a value:"
   ]
  },
  {
   "cell_type": "code",
   "execution_count": 3,
   "metadata": {
    "collapsed": true
   },
   "outputs": [],
   "source": [
    "badseq :: a -> b -> b\n",
    "badseq a b = b"
   ]
  },
  {
   "cell_type": "markdown",
   "metadata": {},
   "source": [
    "However, seq **uses primitive operations from GHC itself** to ensure that, ***when b is evaluated, a is evaluated too***."
   ]
  },
  {
   "cell_type": "code",
   "execution_count": 4,
   "metadata": {},
   "outputs": [
    {
     "data": {
      "text/plain": [
       "10"
      ]
     },
     "metadata": {},
     "output_type": "display_data"
    }
   ],
   "source": [
    "add :: Int -> Int -> Int\n",
    "add x y =\n",
    "  let part1 = seq x part2\n",
    "      part2 = seq y answer\n",
    "      answer = x + y\n",
    "   in part1   -- m: part1 refers transitively to answer\n",
    "-- Or more idiomatically\n",
    "add x y = x `seq` y `seq` x + y\n",
    "\n",
    "add 3 7"
   ]
  },
  {
   "cell_type": "code",
   "execution_count": 5,
   "metadata": {},
   "outputs": [
    {
     "data": {
      "text/plain": [
       "Five: 5"
      ]
     },
     "metadata": {},
     "output_type": "display_data"
    }
   ],
   "source": [
    "main :: IO ()\n",
    "main = do\n",
    "  let five = add (1 + 1) (1 + 2)\n",
    "      seven = add (1 + 2) (1 + 3)\n",
    "\n",
    "  five `seq` seven `seq` putStrLn (\"Five: \" ++ show five) -- ? m: evaluation of putStrLn is not forced\n",
    "main  "
   ]
  },
  {
   "cell_type": "markdown",
   "metadata": {},
   "source": [
    "# Tracing evaluation"
   ]
  },
  {
   "cell_type": "code",
   "execution_count": 6,
   "metadata": {},
   "outputs": [],
   "source": [
    "import Debug.Trace\n",
    "\n",
    "add :: Int -> Int -> Int\n",
    "add x y = x + y\n",
    "\n",
    "main :: IO ()\n",
    "main = do\n",
    "  let five = trace \"five\" (add (1 + 1) (1 + 2))\n",
    "      seven = trace \"seven\" (add (1 + 2) (1 + 3))\n",
    "\n",
    "  putStrLn $ \"Five: \" ++ show five\n",
    "--Five: five\n",
    "--5\n"
   ]
  },
  {
   "cell_type": "code",
   "execution_count": 7,
   "metadata": {},
   "outputs": [],
   "source": [
    "{-# LANGUAGE BangPatterns #-}\n",
    "import Debug.Trace\n",
    "\n",
    "add :: Int -> Int -> Int\n",
    "add x y = x + y\n",
    "\n",
    "main :: IO ()\n",
    "main = do\n",
    "  let !five = trace \"five\" (add (1 + 1) (1 + 2))\n",
    "      !seven = trace \"seven\" (add (1 + 2) (1 + 3))\n",
    "\n",
    "  putStrLn $ \"Five: \" ++ show five\n",
    "  \n",
    "  five `seq` seven `seq` putStrLn (\"Five: \" ++ show five)\n",
    "  \n",
    "--seven\n",
    "--five\n",
    "--Five: 5\n",
    "--Five: 5"
   ]
  },
  {
   "cell_type": "markdown",
   "metadata": {},
   "source": [
    "the order of their output may be different than you expect. On my system, for example, seven prints before five. That's because GHC retains the right to rearrange order of evaluation in these cases.\n",
    "\n",
    "By contrast, if you use five `seq` seven `seq` putStrLn (\"Five: \" ++ show five), it will (should?) **always come out in the same order**: first five, then seven, then \"Five: 5\". This gives **a bit of a lie** to my claim that bang patterns are always a **simple translation to seqs**. \n",
    "\n",
    "However, as long as your expressions are **truly pure**, you will be **unable to observe the difference** between the two."
   ]
  },
  {
   "cell_type": "code",
   "execution_count": 8,
   "metadata": {
    "collapsed": true
   },
   "outputs": [],
   "source": [
    "{-# LANGUAGE BangPatterns #-}\n",
    "import Debug.Trace\n",
    "\n",
    "add :: Int -> Int -> Int\n",
    "add x y = x + y\n",
    "\n",
    "main :: IO ()\n",
    "main = do\n",
    "  let five = trace \"five\" (add (1 + 1) (1 + 2))\n",
    "  let seven = trace \"seven\" (add (1 + 2) (1 + 3))\n",
    "  five `seq` seven `seq` putStrLn (\"Five: \" ++ show five)\n",
    "--five\n",
    "--seven\n",
    "--Five: 5"
   ]
  },
  {
   "cell_type": "markdown",
   "metadata": {},
   "source": [
    "1. Haskell is lazy by default\n",
    "1. You can use bang patterns and seq to make things strict\n",
    "1. By contrast, in strict languages, you can **use closures to make things lazy**\n",
    "1. You can **see if a function is strict** in its **arguments** by **passing in bottom (undefined)** and seeing if it explodes in your face\n",
    "1. The **trace function** can help you see this as well"
   ]
  },
  {
   "cell_type": "markdown",
   "metadata": {},
   "source": [
    "### implement an average function\n",
    "\n",
    "use a helper datatype, calling RunningTotal, to capture both the cumulative sum and the number of elements we've seen so far"
   ]
  },
  {
   "cell_type": "code",
   "execution_count": 9,
   "metadata": {},
   "outputs": [
    {
     "data": {
      "text/plain": [
       "500000.5"
      ]
     },
     "metadata": {},
     "output_type": "display_data"
    }
   ],
   "source": [
    "data RunningTotal = RunningTotal\n",
    "  { sum :: Int\n",
    "  , count :: Int\n",
    "  }\n",
    "\n",
    "printAverage :: RunningTotal -> IO ()\n",
    "printAverage (RunningTotal sum count)\n",
    "  | count == 0 = error \"Need at least one value!\"\n",
    "  | otherwise = print (fromIntegral sum / fromIntegral count :: Double)\n",
    "\n",
    "-- | A fold would be nicer... we'll see that later\n",
    "printListAverage :: [Int] -> IO ()\n",
    "printListAverage =\n",
    "  go (RunningTotal 0 0)\n",
    "  where\n",
    "    go rt [] = printAverage rt\n",
    "    go (RunningTotal sum count) (x:xs) =\n",
    "      let rt = RunningTotal (sum + x) (count + 1)\n",
    "       in go rt xs\n",
    "\n",
    "main :: IO ()\n",
    "main = printListAverage [1..1000000]\n",
    "\n",
    "main"
   ]
  },
  {
   "cell_type": "markdown",
   "metadata": {},
   "source": [
    "We're going to run this with run time statistics turned on so we can look at memory usage:\n",
    "\n",
    "`$ stack ghc average.hs && ./average +RTS -s `\n",
    "\n",
    "Lo and behold, our memory usage is through the roof! Probably we should force evaluation of the newly constructed `rt` before recursing back into `go`. Unfortunately, this results in exactly the same memory usage as we had before!???"
   ]
  },
  {
   "cell_type": "markdown",
   "metadata": {},
   "source": [
    "```\n",
    "[1 of 1] Compiling Main             ( average.hs, average.o )\n",
    "  Linking average ...\n",
    "  500000.5\n",
    "     258,654,528 bytes allocated in the heap\n",
    "     339,889,944 bytes copied during GC\n",
    "      95,096,512 bytes maximum residency (9 sample(s))\n",
    "       1,148,312 bytes maximum slop\n",
    "             164 MB total memory in use (0 MB lost due to fragmentation)\n",
    "             ```"
   ]
  },
  {
   "cell_type": "markdown",
   "metadata": {},
   "source": [
    "## Weak Head Normal Form\n",
    "[there's a great Stack Overflow answer](https://stackoverflow.com/a/6889335/369198)"
   ]
  },
  {
   "cell_type": "code",
   "execution_count": 10,
   "metadata": {},
   "outputs": [
    {
     "data": {
      "text/html": [
       "<style>/* Styles used for the Hoogle display in the pager */\n",
       ".hoogle-doc {\n",
       "display: block;\n",
       "padding-bottom: 1.3em;\n",
       "padding-left: 0.4em;\n",
       "}\n",
       ".hoogle-code {\n",
       "display: block;\n",
       "font-family: monospace;\n",
       "white-space: pre;\n",
       "}\n",
       ".hoogle-text {\n",
       "display: block;\n",
       "}\n",
       ".hoogle-name {\n",
       "color: green;\n",
       "font-weight: bold;\n",
       "}\n",
       ".hoogle-head {\n",
       "font-weight: bold;\n",
       "}\n",
       ".hoogle-sub {\n",
       "display: block;\n",
       "margin-left: 0.4em;\n",
       "}\n",
       ".hoogle-package {\n",
       "font-weight: bold;\n",
       "font-style: italic;\n",
       "}\n",
       ".hoogle-module {\n",
       "font-weight: bold;\n",
       "}\n",
       ".hoogle-class {\n",
       "font-weight: bold;\n",
       "}\n",
       ".get-type {\n",
       "color: green;\n",
       "font-weight: bold;\n",
       "font-family: monospace;\n",
       "display: block;\n",
       "white-space: pre-wrap;\n",
       "}\n",
       ".show-type {\n",
       "color: green;\n",
       "font-weight: bold;\n",
       "font-family: monospace;\n",
       "margin-left: 1em;\n",
       "}\n",
       ".mono {\n",
       "font-family: monospace;\n",
       "display: block;\n",
       "}\n",
       ".err-msg {\n",
       "color: red;\n",
       "font-style: italic;\n",
       "font-family: monospace;\n",
       "white-space: pre;\n",
       "display: block;\n",
       "}\n",
       "#unshowable {\n",
       "color: red;\n",
       "font-weight: bold;\n",
       "}\n",
       ".err-msg.in.collapse {\n",
       "padding-top: 0.7em;\n",
       "}\n",
       ".highlight-code {\n",
       "white-space: pre;\n",
       "font-family: monospace;\n",
       "}\n",
       ".suggestion-warning { \n",
       "font-weight: bold;\n",
       "color: rgb(200, 130, 0);\n",
       "}\n",
       ".suggestion-error { \n",
       "font-weight: bold;\n",
       "color: red;\n",
       "}\n",
       ".suggestion-name {\n",
       "font-weight: bold;\n",
       "}\n",
       "</style><span class='err-msg'>Prelude.undefined<br/>CallStack (from HasCallStack):<br/>  error, called at libraries/base/GHC/Err.hs:79:14 in base:GHC.Err<br/>  undefined, called at &lt;interactive&gt;:1:19 in interactive:IHaskell166</span>"
      ],
      "text/plain": [
       "Prelude.undefined\n",
       "CallStack (from HasCallStack):\n",
       "  error, called at libraries/base/GHC/Err.hs:79:14 in base:GHC.Err\n",
       "  undefined, called at <interactive>:1:19 in interactive:Ghci166"
      ]
     },
     "metadata": {},
     "output_type": "display_data"
    }
   ],
   "source": [
    "main = putStrLn $ undefined `seq` \"Hello World\"\n",
    "main"
   ]
  },
  {
   "cell_type": "markdown",
   "metadata": {},
   "source": [
    " t will print an error about undefined, since it will try to evaluate undefined before it will evaluate \"Hello World\", and because **putStrLn** is ***strict in its argument***."
   ]
  },
  {
   "cell_type": "code",
   "execution_count": 11,
   "metadata": {},
   "outputs": [
    {
     "data": {
      "text/html": [
       "<style>/* Styles used for the Hoogle display in the pager */\n",
       ".hoogle-doc {\n",
       "display: block;\n",
       "padding-bottom: 1.3em;\n",
       "padding-left: 0.4em;\n",
       "}\n",
       ".hoogle-code {\n",
       "display: block;\n",
       "font-family: monospace;\n",
       "white-space: pre;\n",
       "}\n",
       ".hoogle-text {\n",
       "display: block;\n",
       "}\n",
       ".hoogle-name {\n",
       "color: green;\n",
       "font-weight: bold;\n",
       "}\n",
       ".hoogle-head {\n",
       "font-weight: bold;\n",
       "}\n",
       ".hoogle-sub {\n",
       "display: block;\n",
       "margin-left: 0.4em;\n",
       "}\n",
       ".hoogle-package {\n",
       "font-weight: bold;\n",
       "font-style: italic;\n",
       "}\n",
       ".hoogle-module {\n",
       "font-weight: bold;\n",
       "}\n",
       ".hoogle-class {\n",
       "font-weight: bold;\n",
       "}\n",
       ".get-type {\n",
       "color: green;\n",
       "font-weight: bold;\n",
       "font-family: monospace;\n",
       "display: block;\n",
       "white-space: pre-wrap;\n",
       "}\n",
       ".show-type {\n",
       "color: green;\n",
       "font-weight: bold;\n",
       "font-family: monospace;\n",
       "margin-left: 1em;\n",
       "}\n",
       ".mono {\n",
       "font-family: monospace;\n",
       "display: block;\n",
       "}\n",
       ".err-msg {\n",
       "color: red;\n",
       "font-style: italic;\n",
       "font-family: monospace;\n",
       "white-space: pre;\n",
       "display: block;\n",
       "}\n",
       "#unshowable {\n",
       "color: red;\n",
       "font-weight: bold;\n",
       "}\n",
       ".err-msg.in.collapse {\n",
       "padding-top: 0.7em;\n",
       "}\n",
       ".highlight-code {\n",
       "white-space: pre;\n",
       "font-family: monospace;\n",
       "}\n",
       ".suggestion-warning { \n",
       "font-weight: bold;\n",
       "color: rgb(200, 130, 0);\n",
       "}\n",
       ".suggestion-error { \n",
       "font-weight: bold;\n",
       "color: red;\n",
       "}\n",
       ".suggestion-name {\n",
       "font-weight: bold;\n",
       "}\n",
       "</style><div class=\"suggestion-name\" style=\"clear:both;\">Redundant seq</div><div class=\"suggestion-row\" style=\"float: left;\"><div class=\"suggestion-warning\">Found:</div><div class=\"highlight-code\" id=\"haskell\">Just undefined `seq` \"Hello World\"</div></div><div class=\"suggestion-row\" style=\"float: left;\"><div class=\"suggestion-warning\">Why Not:</div><div class=\"highlight-code\" id=\"haskell\">\"Hello World\"</div></div>"
      ],
      "text/plain": [
       "Line 1: Redundant seq\n",
       "Found:\n",
       "Just undefined `seq` \"Hello World\"\n",
       "Why not:\n",
       "\"Hello World\""
      ]
     },
     "metadata": {},
     "output_type": "display_data"
    },
    {
     "data": {
      "text/plain": [
       "Hello World"
      ]
     },
     "metadata": {},
     "output_type": "display_data"
    }
   ],
   "source": [
    "main = putStrLn $ Just undefined `seq` \"Hello World\"\n",
    "main"
   ]
  },
  {
   "cell_type": "markdown",
   "metadata": {},
   "source": [
    "It turns out that when we talk about forcing evaluation with **seq**, we're only talking about **evaluating to weak head normal form (WHNF)**. For most data types, this means ***unwrapping one layer of constructor***.\n",
    "\n",
    "`Just undefined`\n",
    "\n",
    "In the case of `Just undefined`, it means that we unwrap the Just data constructor, but **don't touch the `undefined`** within it. "
   ]
  },
  {
   "cell_type": "markdown",
   "metadata": {},
   "source": [
    "with a standard data constructor?, the impact of using seq is the same as ***pattern matching the outermost constructor***."
   ]
  },
  {
   "cell_type": "markdown",
   "metadata": {},
   "source": [
    "If you want to **monomorphise**, for example, you can implement a function of type \n",
    "\n",
    "`seqMaybe :: Maybe a -> b -> b` \n",
    "\n",
    "and use it in the main example above."
   ]
  },
  {
   "cell_type": "code",
   "execution_count": 12,
   "metadata": {},
   "outputs": [
    {
     "data": {
      "text/html": [
       "<style>/* Styles used for the Hoogle display in the pager */\n",
       ".hoogle-doc {\n",
       "display: block;\n",
       "padding-bottom: 1.3em;\n",
       "padding-left: 0.4em;\n",
       "}\n",
       ".hoogle-code {\n",
       "display: block;\n",
       "font-family: monospace;\n",
       "white-space: pre;\n",
       "}\n",
       ".hoogle-text {\n",
       "display: block;\n",
       "}\n",
       ".hoogle-name {\n",
       "color: green;\n",
       "font-weight: bold;\n",
       "}\n",
       ".hoogle-head {\n",
       "font-weight: bold;\n",
       "}\n",
       ".hoogle-sub {\n",
       "display: block;\n",
       "margin-left: 0.4em;\n",
       "}\n",
       ".hoogle-package {\n",
       "font-weight: bold;\n",
       "font-style: italic;\n",
       "}\n",
       ".hoogle-module {\n",
       "font-weight: bold;\n",
       "}\n",
       ".hoogle-class {\n",
       "font-weight: bold;\n",
       "}\n",
       ".get-type {\n",
       "color: green;\n",
       "font-weight: bold;\n",
       "font-family: monospace;\n",
       "display: block;\n",
       "white-space: pre-wrap;\n",
       "}\n",
       ".show-type {\n",
       "color: green;\n",
       "font-weight: bold;\n",
       "font-family: monospace;\n",
       "margin-left: 1em;\n",
       "}\n",
       ".mono {\n",
       "font-family: monospace;\n",
       "display: block;\n",
       "}\n",
       ".err-msg {\n",
       "color: red;\n",
       "font-style: italic;\n",
       "font-family: monospace;\n",
       "white-space: pre;\n",
       "display: block;\n",
       "}\n",
       "#unshowable {\n",
       "color: red;\n",
       "font-weight: bold;\n",
       "}\n",
       ".err-msg.in.collapse {\n",
       "padding-top: 0.7em;\n",
       "}\n",
       ".highlight-code {\n",
       "white-space: pre;\n",
       "font-family: monospace;\n",
       "}\n",
       ".suggestion-warning { \n",
       "font-weight: bold;\n",
       "color: rgb(200, 130, 0);\n",
       "}\n",
       ".suggestion-error { \n",
       "font-weight: bold;\n",
       "color: red;\n",
       "}\n",
       ".suggestion-name {\n",
       "font-weight: bold;\n",
       "}\n",
       "</style><span class='get-type'>undefined 5 :: forall t. t</span>"
      ],
      "text/plain": [
       "undefined 5 :: forall t. t"
      ]
     },
     "metadata": {},
     "output_type": "display_data"
    },
    {
     "data": {
      "text/html": [
       "<style>/* Styles used for the Hoogle display in the pager */\n",
       ".hoogle-doc {\n",
       "display: block;\n",
       "padding-bottom: 1.3em;\n",
       "padding-left: 0.4em;\n",
       "}\n",
       ".hoogle-code {\n",
       "display: block;\n",
       "font-family: monospace;\n",
       "white-space: pre;\n",
       "}\n",
       ".hoogle-text {\n",
       "display: block;\n",
       "}\n",
       ".hoogle-name {\n",
       "color: green;\n",
       "font-weight: bold;\n",
       "}\n",
       ".hoogle-head {\n",
       "font-weight: bold;\n",
       "}\n",
       ".hoogle-sub {\n",
       "display: block;\n",
       "margin-left: 0.4em;\n",
       "}\n",
       ".hoogle-package {\n",
       "font-weight: bold;\n",
       "font-style: italic;\n",
       "}\n",
       ".hoogle-module {\n",
       "font-weight: bold;\n",
       "}\n",
       ".hoogle-class {\n",
       "font-weight: bold;\n",
       "}\n",
       ".get-type {\n",
       "color: green;\n",
       "font-weight: bold;\n",
       "font-family: monospace;\n",
       "display: block;\n",
       "white-space: pre-wrap;\n",
       "}\n",
       ".show-type {\n",
       "color: green;\n",
       "font-weight: bold;\n",
       "font-family: monospace;\n",
       "margin-left: 1em;\n",
       "}\n",
       ".mono {\n",
       "font-family: monospace;\n",
       "display: block;\n",
       "}\n",
       ".err-msg {\n",
       "color: red;\n",
       "font-style: italic;\n",
       "font-family: monospace;\n",
       "white-space: pre;\n",
       "display: block;\n",
       "}\n",
       "#unshowable {\n",
       "color: red;\n",
       "font-weight: bold;\n",
       "}\n",
       ".err-msg.in.collapse {\n",
       "padding-top: 0.7em;\n",
       "}\n",
       ".highlight-code {\n",
       "white-space: pre;\n",
       "font-family: monospace;\n",
       "}\n",
       ".suggestion-warning { \n",
       "font-weight: bold;\n",
       "color: rgb(200, 130, 0);\n",
       "}\n",
       ".suggestion-error { \n",
       "font-weight: bold;\n",
       "color: red;\n",
       "}\n",
       ".suggestion-name {\n",
       "font-weight: bold;\n",
       "}\n",
       "</style><span class='get-type'>error :: forall a. [Char] -> a</span>"
      ],
      "text/plain": [
       "error :: forall a. [Char] -> a"
      ]
     },
     "metadata": {},
     "output_type": "display_data"
    },
    {
     "data": {
      "text/plain": [
       "Hello World\n",
       "Hello\n",
       "World"
      ]
     },
     "metadata": {},
     "output_type": "display_data"
    }
   ],
   "source": [
    "seqMaybe :: Maybe a -> b -> b\n",
    "seqMaybe Nothing b = b\n",
    "seqMaybe (Just _) b = b\n",
    "\n",
    "main :: IO ()\n",
    "main = do\n",
    "  putStrLn $ Just undefined `seqMaybe` \"Hello World\"\n",
    "  --putStrLn $ undefined `seqMaybe` \"Goodbye!\"\n",
    "  \n",
    "  putStrLn $ error `seq` \"Hello\" -- ! error without arguments:  any function applied to too few values is automatically in WHNF.\n",
    "  putStrLn $ (\\x -> undefined) `seq` \"World\" -- a function fully applied to its arguments. It's no longer a function, it's a value. \n",
    "  --putStrLn $ error \"foo\" `seq` \"Goodbye!\"  \n",
    "  --putStrLn $ undefined 5 `seq` \"Hello\" \n",
    "  --putStrLn $ (error \"foo\" :: Int -> Double) `seq` \"Hello\" \n",
    "  --putStrLn $ (error \"foo\" :: Void -> ()) `seq` \"Hello\" \n",
    "  \n",
    "data Void  \n",
    ":t undefined 5  \n",
    ":t error\n",
    "main  "
   ]
  },
  {
   "cell_type": "markdown",
   "metadata": {},
   "source": [
    "Instead of putting the bangs on the RunningTotal value, I'm putting them **on the values within the constructor**, forcing them to be evaluated at each loop\n",
    "\n",
    "We're no longer accumulating a huge chain of thunks, and our maximum residency drops to 44kb. (Total allocations, though, are still up around 192mb. \n",
    "We need to play around with other optimizations outside the scope of this post to deal with the total allocations, so we're going to ignore this value for the rest of the examples"
   ]
  },
  {
   "cell_type": "code",
   "execution_count": 13,
   "metadata": {},
   "outputs": [],
   "source": [
    "go rt [] = printAverage rt\n",
    "go (RunningTotal !sum !count) (x:xs) =   -- <=== !sum !count\n",
    "  let rt = RunningTotal (sum + x) (count + 1)\n",
    "   in go rt xs"
   ]
  },
  {
   "cell_type": "markdown",
   "metadata": {},
   "source": [
    "Alternative approach:\n",
    "\n",
    "**forces evaluation** of the new sum and count **before constructing the new RunningTotal value**. I like this version a bit more, as it's forcing evaluation at the correct point: when creating the value, ***instead of on the next iteration of the loop when destructing it***.\n",
    "\n",
    "Moral of the story: make sure you're evaluating the thing you actually need to evaluate, ***not just its container***!"
   ]
  },
  {
   "cell_type": "code",
   "execution_count": 14,
   "metadata": {
    "collapsed": true
   },
   "outputs": [],
   "source": [
    "-- alternative\n",
    "go rt [] = printAverage rt\n",
    "go (RunningTotal sum count) (x:xs) =\n",
    "  let !sum' = sum + x\n",
    "      !count' = count + 1\n",
    "      rt = RunningTotal sum' count'\n",
    "   in go rt xs"
   ]
  },
  {
   "cell_type": "markdown",
   "metadata": {},
   "source": [
    "## deepseq\n",
    "\n",
    "fully evaluate down to normal form (NF), meaning all thunks have been evaluated inside our values. \n",
    "\n",
    "semi-standard (meaning it ships with GHC) library to handle this: deepseq. It works by providing an **`NFData`** type class the defines how to reduce a value to normal form (via the **`rnf`** method)."
   ]
  },
  {
   "cell_type": "code",
   "execution_count": 15,
   "metadata": {
    "collapsed": true
   },
   "outputs": [],
   "source": [
    "import Control.DeepSeq\n",
    "\n",
    "instance NFData RunningTotal where\n",
    "  rnf (RunningTotal sum count) = sum `deepseq` count `deepseq` ()\n",
    "  \n",
    "printListAverage :: [Int] -> IO ()\n",
    "printListAverage =\n",
    "  go (RunningTotal 0 0)\n",
    "  where\n",
    "    go rt [] = printAverage rt\n",
    "    go (RunningTotal sum count) (x:xs) =\n",
    "      let rt = RunningTotal (sum + x) (count + 1)\n",
    "       in rt `deepseq` go rt xs  -- <================="
   ]
  },
  {
   "cell_type": "code",
   "execution_count": 17,
   "metadata": {
    "collapsed": true
   },
   "outputs": [],
   "source": [
    "-- or with default implementation\n",
    "{-# LANGUAGE DeriveGeneric #-}\n",
    "import GHC.Generics (Generic)\n",
    "\n",
    "data RunningTotal = RunningTotal\n",
    "  { sum :: Int\n",
    "  , count :: Int\n",
    "  }\n",
    "  deriving Generic\n",
    "instance NFData RunningTotal"
   ]
  },
  {
   "cell_type": "markdown",
   "metadata": {},
   "source": [
    "We can use this not only to avoid space leaks (as we're doing here), but also **to avoid accidentally including exceptions inside thunks within a value**. For an example of that, check out the tryAnyDeep function from the safe-exceptions library."
   ]
  },
  {
   "cell_type": "markdown",
   "metadata": {},
   "source": [
    "## Strict data"
   ]
  }
 ],
 "metadata": {
  "kernelspec": {
   "display_name": "Haskell",
   "language": "haskell",
   "name": "haskell"
  },
  "language_info": {
   "codemirror_mode": "ihaskell",
   "file_extension": ".hs",
   "name": "haskell",
   "version": "8.0.2"
  }
 },
 "nbformat": 4,
 "nbformat_minor": 2
}
